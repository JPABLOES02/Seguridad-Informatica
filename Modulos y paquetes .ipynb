{
 "cells": [
  {
   "cell_type": "code",
   "execution_count": 1,
   "id": "0b5b9376",
   "metadata": {},
   "outputs": [],
   "source": [
    "from paquete import area_circulo,promedio,maximo_minimo,IMC"
   ]
  },
  {
   "cell_type": "code",
   "execution_count": 2,
   "id": "8054f155",
   "metadata": {
    "scrolled": true
   },
   "outputs": [
    {
     "name": "stdout",
     "output_type": "stream",
     "text": [
      "¿Cual es el radio de tu circulo?5\n",
      "El radio de tu circulo es de: 78.5 m^2\n"
     ]
    }
   ],
   "source": [
    "area_circulo.area()"
   ]
  },
  {
   "cell_type": "code",
   "execution_count": 2,
   "id": "0cbaee0e",
   "metadata": {
    "scrolled": true
   },
   "outputs": [
    {
     "name": "stdout",
     "output_type": "stream",
     "text": [
      "Ingresa el numero de materias a promediar:3\n",
      "Ingresa la calificacion #1100\n",
      "Ingresa la calificacion #290\n",
      "Ingresa la calificacion #390\n",
      "Tu promedio es de: 93.33 😎\n"
     ]
    }
   ],
   "source": [
    "promedio.promediar()"
   ]
  },
  {
   "cell_type": "code",
   "execution_count": 13,
   "id": "ab3d0d3e",
   "metadata": {},
   "outputs": [
    {
     "name": "stdout",
     "output_type": "stream",
     "text": [
      "El numero maximo de la lista es: 12\n"
     ]
    }
   ],
   "source": [
    "lista= [2,5,8,9,12]\n",
    "\n",
    "maximo_minimo.encontrar(lista)"
   ]
  },
  {
   "cell_type": "code",
   "execution_count": 4,
   "id": "e64d5fcf",
   "metadata": {
    "scrolled": false
   },
   "outputs": [
    {
     "name": "stdout",
     "output_type": "stream",
     "text": [
      "Eres Jose Pablo, tu IMC es 21.6 y tu peso es: Normal\n"
     ]
    }
   ],
   "source": [
    "persona = {\n",
    "    \"nombre\" : \"Jose Pablo\",\n",
    "    \"peso\" : 70,\n",
    "    \"altura\" : 1.80\n",
    "}\n",
    "\n",
    "IMC.calculadora(persona)"
   ]
  }
 ],
 "metadata": {
  "kernelspec": {
   "display_name": "Python 3 (ipykernel)",
   "language": "python",
   "name": "python3"
  },
  "language_info": {
   "codemirror_mode": {
    "name": "ipython",
    "version": 3
   },
   "file_extension": ".py",
   "mimetype": "text/x-python",
   "name": "python",
   "nbconvert_exporter": "python",
   "pygments_lexer": "ipython3",
   "version": "3.11.4"
  }
 },
 "nbformat": 4,
 "nbformat_minor": 5
}
