{
 "cells": [
  {
   "cell_type": "code",
   "execution_count": 10,
   "id": "d63dcd85",
   "metadata": {},
   "outputs": [
    {
     "name": "stdout",
     "output_type": "stream",
     "text": [
      " Ingresa el rango inicial 2\n",
      " Ingresa el rango final 5\n",
      " Ingresa el tabla inicial 6\n",
      " Ingresa el tabla final 8\n",
      "2 x 6 = 12\n",
      "2 x 7 = 14\n",
      "2 x 8 = 16\n",
      "3 x 6 = 18\n",
      "3 x 7 = 21\n",
      "3 x 8 = 24\n",
      "4 x 6 = 24\n",
      "4 x 7 = 28\n",
      "4 x 8 = 32\n",
      "5 x 6 = 30\n",
      "5 x 7 = 35\n",
      "5 x 8 = 40\n"
     ]
    }
   ],
   "source": [
    "inicio_r = int(input(\" Ingresa el rango inicial \"))\n",
    "final_r = int(input(\" Ingresa el rango final \"))\n",
    "inicio_t = int(input(\" Ingresa el tabla inicial \"))\n",
    "final_t = int(input(\" Ingresa el tabla final \"))\n",
    "\n",
    "for i in range (inicio_r, final_r+1):\n",
    "    for j in range (inicio_t, final_t+1):\n",
    "        print(i,f\"x {j} = {i*j}\")"
   ]
  }
 ],
 "metadata": {
  "kernelspec": {
   "display_name": "Python 3 (ipykernel)",
   "language": "python",
   "name": "python3"
  },
  "language_info": {
   "codemirror_mode": {
    "name": "ipython",
    "version": 3
   },
   "file_extension": ".py",
   "mimetype": "text/x-python",
   "name": "python",
   "nbconvert_exporter": "python",
   "pygments_lexer": "ipython3",
   "version": "3.11.4"
  }
 },
 "nbformat": 4,
 "nbformat_minor": 5
}
